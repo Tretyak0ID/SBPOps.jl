{
 "cells": [
  {
   "cell_type": "markdown",
   "id": "d1b81564",
   "metadata": {},
   "source": [
    "# Нелинейные уравнения мелкой воды"
   ]
  },
  {
   "cell_type": "markdown",
   "id": "f689711f",
   "metadata": {},
   "source": [
    "### 1. Уравнения мелкой воды в форме закона сохранения\n",
    "$$\\frac{\\partial h}{\\partial t} + \\frac{\\partial (hu)}{\\partial x} = 0,$$\n",
    "$$\\frac{\\partial (hu)}{\\partial t} + \\frac{\\partial}{\\partial x}\\left(hu^2 + \\frac{gh^2}{2}\\right)=0$$\n",
    "Переменные $\\textbf{u} = [h, hu]^T:\\mathbb{R}\\rightarrow \\mathbb{R}^2$, поток $\\textbf{f}(\\textbf{u}) = \\begin{bmatrix} hu \\\\ hu^2 + \\frac{gh^2}{2} \\end{bmatrix}:\\mathbb{R} \\rightarrow \\mathbb{R}^2$.\n",
    "\n",
    "* *функция энтропии:* $e = \\frac{hu^2}{2} + \\frac{gh^2}{2}:\\mathbb{R}^2\\rightarrow \\mathbb{R}$, определенная на решениях системы и ставящее в соответствие решению в конкретный момент времени в конкретной точке значение энтропии. Совпадает с полной энергией сиcтемы.\n",
    "\n",
    "* *поток энтропии:* $q=\\frac{1}{2}hu^3 + guh^2:\\mathbb{R}^2 \\rightarrow \\mathbb{R}$, которая на каждом решении системы ставит в соответствие поток энтропии в данной точке в данный момент времени.\n",
    "\n",
    "* *энтропийные переменные:* $\\textbf{g} = \\begin{bmatrix} gh - \\frac{1}{2}u^2\\\\ u \\end{bmatrix}$, их универсально можно найти как $\\begin{bmatrix} \\frac{\\partial e}{\\partial h} \\\\ \\frac{\\partial e}{\\partial hu} \\end{bmatrix}$\n",
    "\n",
    "В этом случае выполнено свойство: $\\begin{bmatrix} \\frac{\\partial \\textbf{q}}{\\partial h} \\\\ \\frac{\\partial \\textbf{q}}{\\partial uh}\\end{bmatrix} =  $"
   ]
  },
  {
   "cell_type": "code",
   "execution_count": null,
   "id": "6b97f38f",
   "metadata": {},
   "outputs": [],
   "source": [
    "begin\n",
    "    using Revise\n",
    "    using sbp_ops\n",
    "    using LinearAlgebra\n",
    "    using SparseArrays\n",
    "end"
   ]
  }
 ],
 "metadata": {
  "kernelspec": {
   "display_name": "Julia 1.11.1",
   "language": "julia",
   "name": "julia-1.11"
  },
  "language_info": {
   "file_extension": ".jl",
   "mimetype": "application/julia",
   "name": "julia",
   "version": "1.11.1"
  }
 },
 "nbformat": 4,
 "nbformat_minor": 5
}
