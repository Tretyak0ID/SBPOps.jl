{
 "cells": [
  {
   "cell_type": "markdown",
   "id": "8bdf4577",
   "metadata": {},
   "source": [
    "# Нелинейные уравнения мелкой воды"
   ]
  },
  {
   "cell_type": "markdown",
   "id": "c1671d20",
   "metadata": {},
   "source": [
    "### 1. Уравнения мелкой воды в форме закона сохранения\n",
    "$$\\frac{\\partial h}{\\partial t} + \\frac{\\partial (hu)}{\\partial x} = 0,$$\n",
    "$$\\frac{\\partial (hu)}{\\partial t} + \\frac{\\partial}{\\partial x}\\left(hu^2 + \\frac{gh^2}{2}\\right)=0$$\n",
    "Переменные $\\textbf{u} = [h, hu]^T:\\mathbb{R}\\rightarrow \\mathbb{R}^2$, поток $\\textbf{f}(\\textbf{u}) = \\begin{bmatrix} hu \\\\ hu^2 + \\frac{gh^2}{2} \\end{bmatrix}:$"
   ]
  },
  {
   "cell_type": "code",
   "execution_count": null,
   "id": "462706e9",
   "metadata": {},
   "outputs": [],
   "source": [
    "begin\n",
    "    using Revise\n",
    "    using sbp_ops\n",
    "    using LinearAlgebra\n",
    "    using SparseArrays\n",
    "end"
   ]
  }
 ],
 "metadata": {
  "kernelspec": {
   "display_name": "Julia 1.11.1",
   "language": "julia",
   "name": "julia-1.11"
  },
  "language_info": {
   "file_extension": ".jl",
   "mimetype": "application/julia",
   "name": "julia",
   "version": "1.11.1"
  }
 },
 "nbformat": 4,
 "nbformat_minor": 5
}
