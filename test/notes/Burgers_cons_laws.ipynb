{
 "cells": [
  {
   "cell_type": "code",
   "execution_count": 1,
   "id": "24e4c3e3",
   "metadata": {},
   "outputs": [
    {
     "name": "stderr",
     "output_type": "stream",
     "text": [
      "\u001b[36m\u001b[1m[ \u001b[22m\u001b[39m\u001b[36m\u001b[1mInfo: \u001b[22m\u001b[39mPrecompiling sbp_ops [910f2e5e-8313-4add-9998-56d58a3d1099] (cache misses: include_dependency fsize change (2))\n"
     ]
    }
   ],
   "source": [
    "begin\n",
    "    using Revise\n",
    "    using sbp_ops\n",
    "    using LinearAlgebra\n",
    "    using SparseArrays\n",
    "end"
   ]
  },
  {
   "cell_type": "markdown",
   "id": "bb8f55d5",
   "metadata": {},
   "source": [
    "# Уравнение Бюргерса\n",
    "Уравнение Бюргерса в форме закона сохранения:\n",
    "$$\\frac{\\partial u}{\\partial t} + \\frac{\\partial}{\\partial x}\\left(\\frac{u^2}{2}\\right) = 0,$$\n",
    "* $u(x,t):[0,1]\\times[0,T]\\rightarrow \\mathbb{R}$ решение\n",
    "* $f:\\mathbb{R} \\rightarrow [0,1]\\times [0,T]$ функция потока $f(u)=f(u(x,t))$\n",
    "\n",
    "Начальное условие $u(x,0)=u_0$, переодические граничные условия $u(0,t)=u(1,t)$."
   ]
  },
  {
   "cell_type": "markdown",
   "id": "07a3e187",
   "metadata": {},
   "source": [
    "#### Теория энтропийной устойчивости для уравнения Бюргерса\n",
    "Определим три величины связанные с математической энтропией:\n",
    "* Энтропийную функцию $e:\\mathbb{R}\\rightarrow \\mathbb{R}, \\ e(u)$\n",
    "* Энтропийные поток $q:\\mathbb{R}\\rightarrow [0,1]\\times[0,T], \\ q(u)=q(u(x,t))$\n",
    "* Энтропийное значение $g:[0,1]\\times[0,T] \\rightarrow \\mathbb{R}, \\ g = \\frac{\\partial e}{\\partial u}$\n",
    "\n",
    "такие, что $\\frac{\\partial q}{\\partial u} = g^T\\frac{\\partial f}{\\partial u}, \\ e(u)$ выпукла и $H(u)>0$.\n",
    "\n",
    "Для уравнения Бюргерса:\n",
    "* $e(u) = u^2/2$\n",
    "* $q(u) = u^3/3$\n",
    "* $g = u$\n",
    "\n",
    "Тогда, умножая скалярно (в смысле $L_2$) закон сохранения на $g$, получим:\n",
    "$$(g, \\partial_t u) + (g,\\partial_x f(u)) = 0 \\Leftrightarrow (u,\\partial_t u) + (u, \\partial_x u^2/2) = 0$$\n",
    "Воспользуемся правилом Лейбница и перепишем пространственную производную потока\n",
    "$$\\partial_x (u^2/2) = \\frac{2}{3}\\partial_x (u^2/2) + \\frac{1}{3}\\partial_x (u^2/2) = \\frac{1}{3}\\partial_x u^2 + \\frac{1}{3}u\\partial_x u.$$\n",
    "Определим глобальную энтропию системы как $E(t) = \\int\\limits_0^1 e(x,t)dx$, тогда можно написать, что ее эволюция равна:\n",
    "$$\\partial_t E(t) = \\int \\partial_t e(x,t)dx = \\int u\\partial_tu = (u,\\partial_t u) = - \\frac{1}{3}(u,\\partial_x u^2) - \\frac{1}{3}(u^2,\\partial_x u) = \\frac{1}{3}(\\partial_x u, u^2) - \\frac{1}{3}(u^2,\\partial_x u) - \\int_{\\partial \\Omega} n\\cdot u^3/3 dx$$\n",
    "Таким образом в силу периодичности:\n",
    "$$\\frac{dE}{dt} = u(0)^3/3 - u(1)^3/3 = 0$$\n",
    "энтропия сохраняется для гладких решений. Если решение не является гладким то потребуем\n",
    "$$\\frac{dE}{dt}\\leq 0.$$\n",
    "Пример $e$ является выпуклой функцией с положительно определенным Гессианом $H(e)>1$."
   ]
  },
  {
   "cell_type": "code",
   "execution_count": null,
   "id": "8e10e8b8",
   "metadata": {},
   "outputs": [],
   "source": []
  }
 ],
 "metadata": {
  "kernelspec": {
   "display_name": "Julia 1.11.1",
   "language": "julia",
   "name": "julia-1.11"
  },
  "language_info": {
   "file_extension": ".jl",
   "mimetype": "application/julia",
   "name": "julia",
   "version": "1.11.1"
  }
 },
 "nbformat": 4,
 "nbformat_minor": 5
}
